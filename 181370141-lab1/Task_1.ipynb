{
 "cells": [
  {
   "cell_type": "markdown",
   "metadata": {},
   "source": [
    "7.1 Sales Tax\n",
    "Write a program that will ask the user to enter the amount of a purchase. The program should then\n",
    "compute the state and county sales tax. Assume the state sales tax is 5 percent and the county\n",
    "sales tax is 2.5 percent. The program should display the following: * The amount of the purchase\n",
    "* The state sales tax * The county sales tax * The total sales tax * and the total of the sale (which\n",
    "is the sum of the amount of purchase plus the total sales tax)."
   ]
  },
  {
   "cell_type": "code",
   "execution_count": 1,
   "metadata": {},
   "outputs": [
    {
     "name": "stdout",
     "output_type": "stream",
     "text": [
      "Enter amount of purchase: 23\n",
      "Total sale is  24.725\n",
      "State sale tax is 1.15\n",
      "County sale tax 0.58\n",
      "Total tax is 1.73 \n"
     ]
    }
   ],
   "source": [
    "purchase=int(input(\"Enter amount of purchase: \"))\n",
    "state_sale,county_sales_tax=0.05,0.025\n",
    "total_tax=purchase*(state_sale+county_sales_tax)\n",
    "print(\"Total sale is \",purchase+total_tax)\n",
    "print(\"State sale tax is {:.2f}\".format(state_sale*purchase))\n",
    "print(\"County sale tax {:.2f}\".format(county_sales_tax*purchase))\n",
    "print(\"Total tax is {:.2f} \".format(total_tax))"
   ]
  },
  {
   "cell_type": "code",
   "execution_count": null,
   "metadata": {},
   "outputs": [],
   "source": []
  }
 ],
 "metadata": {
  "kernelspec": {
   "display_name": "Python 3",
   "language": "python",
   "name": "python3"
  },
  "language_info": {
   "codemirror_mode": {
    "name": "ipython",
    "version": 3
   },
   "file_extension": ".py",
   "mimetype": "text/x-python",
   "name": "python",
   "nbconvert_exporter": "python",
   "pygments_lexer": "ipython3",
   "version": "3.7.6"
  }
 },
 "nbformat": 4,
 "nbformat_minor": 4
}
