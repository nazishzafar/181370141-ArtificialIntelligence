{
 "cells": [
  {
   "cell_type": "markdown",
   "metadata": {},
   "source": [
    "7.2 Tip, Tax and Total\n",
    "Write a program that calculates the total amount of a meal purchased at a restaurant. The program\n",
    "should ask the user to enter the charge for the food, and then calculate the amount of a 18 percent\n",
    "tip and 7 percent sales tax. Display each of these amounts and the total."
   ]
  },
  {
   "cell_type": "code",
   "execution_count": 1,
   "metadata": {},
   "outputs": [
    {
     "name": "stdout",
     "output_type": "stream",
     "text": [
      "Enter charges for the food: 200\n",
      "Total amount of food is   250.0\n",
      "Tip in amount is  36.0\n",
      "sale tax in amount is  14.00\n"
     ]
    }
   ],
   "source": [
    "food_charge=int(input(\"Enter charges for the food: \"))\n",
    "tip,sale_tax=0.18,0.07\n",
    "print(\"Total amount of food is  \",(food_charge*(tip+sale_tax))+food_charge)\n",
    "print(\"Tip in amount is \",tip*food_charge)\n",
    "print(\"sale tax in amount is {: .2f}\".format(sale_tax*food_charge))"
   ]
  },
  {
   "cell_type": "code",
   "execution_count": null,
   "metadata": {},
   "outputs": [],
   "source": []
  }
 ],
 "metadata": {
  "kernelspec": {
   "display_name": "Python 3",
   "language": "python",
   "name": "python3"
  },
  "language_info": {
   "codemirror_mode": {
    "name": "ipython",
    "version": 3
   },
   "file_extension": ".py",
   "mimetype": "text/x-python",
   "name": "python",
   "nbconvert_exporter": "python",
   "pygments_lexer": "ipython3",
   "version": "3.7.6"
  }
 },
 "nbformat": 4,
 "nbformat_minor": 4
}
