{
 "cells": [
  {
   "cell_type": "markdown",
   "metadata": {},
   "source": [
    "7.3 Ingredient Adjuster\n",
    "A cookie recipe calls for the following ingredients: * 1.5 cups of sugar * 1 cup of butter * 2.75 cups\n",
    "of flour\n",
    "The recipe produces 48 cookies with this amount of the ingredients. Write a program that asks\n",
    "the user how many cookies he or she wants to make, and then displays the number of cups of each\n",
    "ingredient needed for the specified number of cookies."
   ]
  },
  {
   "cell_type": "code",
   "execution_count": 1,
   "metadata": {},
   "outputs": [
    {
     "name": "stdout",
     "output_type": "stream",
     "text": [
      "Enter number of cookies to be made 48\n",
      "Cups of sugar needed  1.50\n",
      "Cups of butter needed  1.00\n",
      "Cups of floor needed  2.75 \n"
     ]
    }
   ],
   "source": [
    "sugar_cup=1.5\n",
    "butter_cup=1\n",
    "floor_cup=2.75\n",
    "cookies=48\n",
    "cookies_made=int(input(\"Enter number of cookies to be made \"))\n",
    "print(\"Cups of sugar needed {: .2f}\".format(sugar_cup*cookies_made/cookies))\n",
    "print(\"Cups of butter needed {: .2f}\".format(butter_cup*cookies_made/cookies))\n",
    "print(\"Cups of floor needed {: .2f} \".format(floor_cup*cookies_made/cookies))"
   ]
  },
  {
   "cell_type": "code",
   "execution_count": null,
   "metadata": {},
   "outputs": [],
   "source": []
  }
 ],
 "metadata": {
  "kernelspec": {
   "display_name": "Python 3",
   "language": "python",
   "name": "python3"
  },
  "language_info": {
   "codemirror_mode": {
    "name": "ipython",
    "version": 3
   },
   "file_extension": ".py",
   "mimetype": "text/x-python",
   "name": "python",
   "nbconvert_exporter": "python",
   "pygments_lexer": "ipython3",
   "version": "3.7.6"
  }
 },
 "nbformat": 4,
 "nbformat_minor": 4
}
