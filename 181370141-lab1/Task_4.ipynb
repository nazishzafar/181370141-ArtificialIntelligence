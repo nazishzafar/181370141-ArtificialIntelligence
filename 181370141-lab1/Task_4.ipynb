{
 "cells": [
  {
   "cell_type": "markdown",
   "metadata": {},
   "source": [
    "7.4 Male and Female Percentages\n",
    "Write a program that asks the user for the number of males and the number of females registered\n",
    "in a class. The program should display the percentage of males and females in the class.\n",
    "Hint: Suppose there are 8 males and 12 females in a class. There are 20 students in the class. The\n",
    "percentage of males can be calculated as 8 4 20 5 0.4, or 40%. The percentage of females can be\n",
    "calculated as 12 4 20 5 0.6, or 60%."
   ]
  },
  {
   "cell_type": "code",
   "execution_count": 1,
   "metadata": {},
   "outputs": [
    {
     "name": "stdout",
     "output_type": "stream",
     "text": [
      "Enter number of males: 23\n",
      "Enter number of females: 34\n",
      "Males are 40  percent\n",
      "Females are 60  percent\n"
     ]
    }
   ],
   "source": [
    "males=int(input(\"Enter number of males: \"))\n",
    "females=int(input(\"Enter number of females: \"))\n",
    "total=males+females\n",
    "print(\"Males are {:.0f} \".format((males/total)*100),\"percent\")\n",
    "print(\"Females are {:.0f} \".format((females/total)*100),\"percent\")"
   ]
  },
  {
   "cell_type": "code",
   "execution_count": null,
   "metadata": {},
   "outputs": [],
   "source": []
  }
 ],
 "metadata": {
  "kernelspec": {
   "display_name": "Python 3",
   "language": "python",
   "name": "python3"
  },
  "language_info": {
   "codemirror_mode": {
    "name": "ipython",
    "version": 3
   },
   "file_extension": ".py",
   "mimetype": "text/x-python",
   "name": "python",
   "nbconvert_exporter": "python",
   "pygments_lexer": "ipython3",
   "version": "3.7.6"
  }
 },
 "nbformat": 4,
 "nbformat_minor": 4
}
