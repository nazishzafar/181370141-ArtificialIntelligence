{
 "cells": [
  {
   "cell_type": "markdown",
   "metadata": {},
   "source": [
    "7.5 Stock Transation Program\n",
    "Last month Joe purchased some stock in Acme Software, Inc. Here are the details of the purchase:\n",
    "* The number of shares that Joe purchased was 2,000. * When Joe purchased the stock, he paid\n",
    "40.00 Dollar per share. * Joe paid his stockbroker a commission that amounted to 3 percent of the\n",
    "amount he paid for the stock.\n",
    "Two weeks later Joe sold the stock. Here are the details of the sale: * The number of shares that\n",
    "Joe sold was 2,000. * He sold the stock for 42.75 Dollar per share. * He paid his stockbroker\n",
    "another commission that amounted to 3 percent of the amount he received for the stock.\n",
    "Write a program that displays the following information: * The amount of money Joe paid for the\n",
    "stock. * The amount of commission Joe paid his broker when he bought the stock. * The amount\n",
    "that Joe sold the stock for. * The amount of commission Joe paid his broker when he sold the\n",
    "stock. * Display the amount of money that Joe had left when he sold the stock and paid his broker\n",
    "(both times). If this amount is positive, then Joe made a profit. If the amount is negative, then\n",
    "Joe lost money."
   ]
  },
  {
   "cell_type": "code",
   "execution_count": 1,
   "metadata": {},
   "outputs": [
    {
     "name": "stdout",
     "output_type": "stream",
     "text": [
      "joe made a profit\n",
      "\n",
      "Amount of money joe paid:  82400.0\n",
      "Commision pay to broker:  2400.0\n",
      "Amount of moeny joe sold:  88065.0\n",
      "Commision when he sold shares:  2565.0\n",
      "Left amount:  5665.0\n"
     ]
    }
   ],
   "source": [
    "total_shares,per_share=2000,40\n",
    "commision=(total_shares*per_share*3)/100\n",
    "paid_money=(total_shares*per_share)+commision\n",
    "sold_share=42.75\n",
    "another_commision=(total_shares*sold_share*3)/100\n",
    "money_recived=(total_shares*sold_share)+another_commision\n",
    "left_money=money_recived-paid_money\n",
    "\n",
    "if left_money>0:\n",
    "    print(\"joe made a profit\")\n",
    "else:\n",
    "        print(\"Joe made a loss\")\n",
    "        \n",
    "print(\"\\nAmount of money joe paid: \",paid_money)\n",
    "print(\"Commision pay to broker: \",commision)\n",
    "print(\"Amount of moeny joe sold: \",money_recived)\n",
    "print(\"Commision when he sold shares: \",another_commision)\n",
    "print(\"Left amount: \",left_money)"
   ]
  },
  {
   "cell_type": "code",
   "execution_count": null,
   "metadata": {},
   "outputs": [],
   "source": []
  }
 ],
 "metadata": {
  "kernelspec": {
   "display_name": "Python 3",
   "language": "python",
   "name": "python3"
  },
  "language_info": {
   "codemirror_mode": {
    "name": "ipython",
    "version": 3
   },
   "file_extension": ".py",
   "mimetype": "text/x-python",
   "name": "python",
   "nbconvert_exporter": "python",
   "pygments_lexer": "ipython3",
   "version": "3.7.6"
  }
 },
 "nbformat": 4,
 "nbformat_minor": 4
}
